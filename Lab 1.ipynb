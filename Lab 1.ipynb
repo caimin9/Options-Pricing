{
 "cells": [
  {
   "cell_type": "code",
   "execution_count": 4,
   "id": "8aa5dcfd",
   "metadata": {},
   "outputs": [],
   "source": [
    "import numpy as np\n",
    "import math as m\n"
   ]
  },
  {
   "cell_type": "code",
   "execution_count": 107,
   "id": "013724dc",
   "metadata": {},
   "outputs": [],
   "source": [
    "m_list = [16,32,64,128,256]\n",
    "t_list = [.25,.5,.75,1]\n"
   ]
  },
  {
   "cell_type": "code",
   "execution_count": 134,
   "id": "e63c0f5e",
   "metadata": {},
   "outputs": [],
   "source": [
    "def BinomialTree(E, S0, M, T, r, vol, option = 'call', risk_neutrality = 0):\n",
    "    \"\"\"\n",
    "    E is our strike price\n",
    "    S0 is initial price\n",
    "    M is the number of steps\n",
    "    T is our time to expiry\n",
    "    r is our risk free rate\n",
    "    vol is the volatility of the asset\n",
    "    Choose option to be 'call' or 'put' to decide on the type of option wanted\n",
    "    IF risk_neutrality = 0 we dont preserve it, if == 1 we do & if ==2 we use the Cox Ross Rubenstein Formula\n",
    "    \n",
    "    \"\"\"\n",
    "    dt = T/M\n",
    "    #don't preserve risk neutrality\n",
    "    if risk_neutrality == 0:\n",
    "        u = np.exp(r*(dt)) * ( 1 + np.sqrt(np.exp(vol**2 *(dt))-1 ) )\n",
    "        d = np.exp(r*(dt)) * ( 1 - np.sqrt(np.exp(vol**2 *(dt))-1 ) )\n",
    "        p =1/2\n",
    "        \n",
    "    #Preserve risk neutrality\n",
    "    elif risk_neutrality == 1:\n",
    "        A = 1/2 * (np.exp((r+vol**2)*dt) +  np.exp(-r*dt))\n",
    "        u = A + np.sqrt(A**2 -1)\n",
    "        d = A - np.sqrt(A**2 -1)\n",
    "        p = (np.exp(r*dt)-d)/(u-d)\n",
    "    \n",
    "    #Cox Ross Rubenstein formula\n",
    "    elif risk_neutrality == 2:\n",
    "        u = np.exp(vol* np.sqrt(dt))\n",
    "        d = np.exp(-vol* np.sqrt(dt))\n",
    "        p = (np.exp(r*dt)-d )/(u-d)\n",
    "        \n",
    "\n",
    "            \n",
    "    \n",
    "    assetAtExpiry = (S0*d**np.arange(M,-1,-1)) * (u**np.arange(0,M+1,1))\n",
    "    \n",
    "    if option == 'call':\n",
    "        optVal = np.maximum(assetAtExpiry-E,0)\n",
    "    else:\n",
    "        optVal = np.maximum(E- assetAtExpiry, 0)\n",
    "        \n",
    "    #Now compute the value of the call option at each stage\n",
    "    for i in range(int(M)-1,-1,-1):   #we go to 0 here hence the 1st -1 and the 2nd -1 is because we are working backwards\n",
    "        optVal = np.exp(-r*(dt)) * (p*optVal[range(1,i+2)] + (1-p)*optVal[range(0,i+1)])\n",
    "        \n",
    "    return optVal[0]\n",
    "    "
   ]
  },
  {
   "cell_type": "code",
   "execution_count": 137,
   "id": "5599eee1",
   "metadata": {},
   "outputs": [
    {
     "name": "stdout",
     "output_type": "stream",
     "text": [
      "[4.706, 4.7062, 4.7064, 4.7065, 4.7065]\n",
      "[4.4479, 4.4523, 4.4517, 4.4521, 4.4525]\n",
      "[4.2422, 4.2475, 4.2469, 4.2456, 4.2462]\n",
      "[4.0749, 4.0687, 4.0748, 4.0725, 4.0731]\n"
     ]
    }
   ],
   "source": [
    "for t in t_list:\n",
    "    my_list = []\n",
    "    for m in m_list:\n",
    "        my_list.append(round(BinomialTree(10,5,M = m,T = t,r = .12 ,vol = .5, option = 'put',risk_neutrality = 0),4))\n",
    "    print(my_list)"
   ]
  },
  {
   "cell_type": "markdown",
   "id": "fbeef9d4",
   "metadata": {},
   "source": [
    "## 2nd type\n"
   ]
  },
  {
   "cell_type": "code",
   "execution_count": 138,
   "id": "76349e71",
   "metadata": {},
   "outputs": [
    {
     "name": "stdout",
     "output_type": "stream",
     "text": [
      "[4.8511, 4.8511, 4.8511, 4.8511, 4.8511]\n",
      "[4.7046, 4.7047, 4.7047, 4.7048, 4.7048]\n",
      "[4.5626, 4.5632, 4.5634, 4.5634, 4.5636]\n",
      "[4.4292, 4.4299, 4.4299, 4.43, 4.4304]\n"
     ]
    }
   ],
   "source": [
    "for t in t_list:\n",
    "    my_list = []\n",
    "    for m in m_list:\n",
    "        my_list.append(round(BinomialTree(10,5,M = m,T = t,r = .06 ,vol = .3, option = 'put',risk_neutrality = 1),4))\n",
    "    print(my_list)"
   ]
  },
  {
   "cell_type": "markdown",
   "id": "9d1cf331",
   "metadata": {},
   "source": [
    "## Cox Ross Rubenstein"
   ]
  },
  {
   "cell_type": "code",
   "execution_count": 136,
   "id": "07070b2e",
   "metadata": {},
   "outputs": [
    {
     "name": "stdout",
     "output_type": "stream",
     "text": [
      "[4.706, 4.7062, 4.7063, 4.7065, 4.7065]\n",
      "[4.4472, 4.4519, 4.4516, 4.4519, 4.4525]\n",
      "[4.2394, 4.2461, 4.2461, 4.2451, 4.2462]\n",
      "[4.0691, 4.0665, 4.0734, 4.0722, 4.0724]\n"
     ]
    }
   ],
   "source": [
    "for t in t_list:\n",
    "    my_list = []\n",
    "    for m in m_list:\n",
    "        my_list.append(round(BinomialTree(10,5,M = m,T = t,r = .12 ,vol = .5, option = 'put',risk_neutrality = 2),4))\n",
    "    print(my_list)"
   ]
  },
  {
   "cell_type": "code",
   "execution_count": 5,
   "id": "1a8f6a44",
   "metadata": {},
   "outputs": [],
   "source": [
    "def dFac(r,dt):\n",
    "    return(np.exp(-r*dt))"
   ]
  },
  {
   "cell_type": "code",
   "execution_count": 6,
   "id": "9e30c33c",
   "metadata": {},
   "outputs": [
    {
     "name": "stdout",
     "output_type": "stream",
     "text": [
      "0.0\n"
     ]
    }
   ],
   "source": [
    "S0=40; E=40; B=35; T=1; r=0.04; sig=0.4\n",
    "M=400; dt=T/M\n",
    "u=np.exp(sig*np.sqrt(dt));\n",
    "d=np.exp(-sig*np.sqrt(dt));\n",
    "p=(np.exp(r*dt)-d)/(u-d);\n",
    "# Possible values of the underlying asset at expiration:\n",
    "upwr=u**np.arange(0,M+1)\n",
    "dpwr=d**np.arange(M,-1,-1)\n",
    "assetAtExpiry=(S0*dpwr)*(upwr)\n",
    "\n",
    "\n",
    "putVals = np.maximum(E-assetAtExpiry, 0)\n",
    "\n",
    "\n",
    "\n",
    "# Stage 2 variation for down-and-out call option\n",
    "callVals=np.maximum(assetAtExpiry-E,0)\n",
    "for j in np.where(assetAtExpiry>=B):\n",
    "    callVals[j]=0\n",
    "\n",
    "# Stage 3 variation for down-and-out call option\n",
    "for i in range(int(M)-1,-1,-1):\n",
    "    valsUp=callVals[range(1,i+2)]\n",
    "    valsDown=callVals[range(0,i+1)]\n",
    "    callVals=dFac(r,dt)*(p*valsUp+(1-p)*valsDown)\n",
    "    siValues=S0*upwr[range(0,i+1)]*dpwr[range(M-i,M+1)]\n",
    "for j in np.where(siValues<B):\n",
    "    callVals[j]=0\n",
    "print(callVals[0])"
   ]
  },
  {
   "cell_type": "markdown",
   "id": "bed3020f",
   "metadata": {},
   "source": [
    "---------------------------------------------------------------------"
   ]
  }
 ],
 "metadata": {
  "kernelspec": {
   "display_name": "Python 3 (ipykernel)",
   "language": "python",
   "name": "python3"
  },
  "language_info": {
   "codemirror_mode": {
    "name": "ipython",
    "version": 3
   },
   "file_extension": ".py",
   "mimetype": "text/x-python",
   "name": "python",
   "nbconvert_exporter": "python",
   "pygments_lexer": "ipython3",
   "version": "3.8.8"
  }
 },
 "nbformat": 4,
 "nbformat_minor": 5
}
