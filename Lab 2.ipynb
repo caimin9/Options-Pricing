{
 "cells": [
  {
   "cell_type": "code",
   "execution_count": 2,
   "id": "917a7085",
   "metadata": {},
   "outputs": [],
   "source": [
    "import numpy as np\n",
    "import math as m\n",
    "from scipy.stats import norm"
   ]
  },
  {
   "cell_type": "markdown",
   "id": "5dfa589d",
   "metadata": {},
   "source": [
    "###  Black Scholes Formula"
   ]
  },
  {
   "cell_type": "code",
   "execution_count": 5,
   "id": "785f90db",
   "metadata": {},
   "outputs": [],
   "source": [
    "def black_scholes(S0, E, r,t,vol, option):\n",
    "    \n",
    "    d1 = ( np.log(S0/E) + (r+(vol**2/2))*t )/(vol*np.sqrt(t))\n",
    "    d2 = ( np.log(S0/E) + (r-(vol**2/2))*t )/(vol*np.sqrt(t))\n",
    "    \n",
    "    if option == 'call' or option == 'Call':\n",
    "        payoff = S0* norm.cdf(d1) - E*np.exp(-r*t)*norm.cdf(d2)\n",
    "    else:\n",
    "        payoff =  E*np.exp(-r*t)*(1- norm.cdf(d2)) - S0*(1-norm.cdf(d1))\n",
    "    \n",
    "    return payoff\n",
    "        \n",
    "    \n",
    "#put call -- C + e^-rt*E  = P + S"
   ]
  },
  {
   "cell_type": "code",
   "execution_count": 10,
   "id": "5b723d63",
   "metadata": {},
   "outputs": [
    {
     "name": "stdout",
     "output_type": "stream",
     "text": [
      "4.70659485121881\n",
      "4.452669135807984\n",
      "4.246542116278227\n",
      "4.073262248678926\n"
     ]
    }
   ],
   "source": [
    "T = [.25,.5,.75,1]\n",
    "for t in T:\n",
    "    print(black_scholes(5,10,.12,t,.5,'put'))\n",
    "    "
   ]
  },
  {
   "cell_type": "markdown",
   "id": "d0af1d76",
   "metadata": {},
   "source": [
    "### Binomial Tree for American options"
   ]
  },
  {
   "cell_type": "code",
   "execution_count": 27,
   "id": "91177c24",
   "metadata": {},
   "outputs": [],
   "source": [
    "def intrinsic_put(S0,E,M,i, dpwrs,upwrs):\n",
    "    siValues = S0*upwrs[range(0,i+1)] *dpwrs[range(M-i,M+1)]\n",
    "    return np.maximum(E-siValues,0)\n",
    "    \n",
    "def dFac(r, dt): #discount factor\n",
    "    return np.exp(-r * dt)"
   ]
  },
  {
   "cell_type": "code",
   "execution_count": 69,
   "id": "249f70a0",
   "metadata": {},
   "outputs": [],
   "source": [
    "def American_BinomialTree(E, S0, M, T, r, vol, option = 'call', risk_neutrality = 0):\n",
    "    \"\"\"\n",
    "    E is our strike price\n",
    "    S0 is initial price\n",
    "    M is the number of steps\n",
    "    T is our time to expiry\n",
    "    r is our risk free rate\n",
    "    vol is the volatility of the asset\n",
    "    Choose option to be 'call' or 'put' to decide on the type of option wanted\n",
    "    IF risk_neutrality = 0 we dont preserve it, if == 1 we do & if ==2 we use the Cox Ross Rubenstein Formula\n",
    "    \n",
    "    \"\"\"\n",
    "\n",
    "    dt = T/M\n",
    "    \n",
    "\n",
    "    #don't preserve risk neutrality\n",
    "    if risk_neutrality == 0:\n",
    "        u = np.exp(vol*np.sqrt(dt) + (r-vol**2/2)*dt)\n",
    "        d = np.exp(-vol*np.sqrt(dt) + (r-vol**2/2)*dt)\n",
    "        p =1/2\n",
    "        \n",
    "        \n",
    "        \n",
    "    #Preserve risk neutrality\n",
    "    elif risk_neutrality == 1:\n",
    "        A = 1/2 * (np.exp((r+vol**2)*dt) +  np.exp(-r*dt))\n",
    "        u = A + np.sqrt(A**2 -1)\n",
    "        d = A - np.sqrt(A**2 -1)\n",
    "        p = (np.exp(r*dt)-d)/(u-d)\n",
    "    \n",
    "    #Cox Ross Rubenstein formula\n",
    "    elif risk_neutrality == 2:\n",
    "        u = np.exp(vol* np.sqrt(dt))\n",
    "        d = np.exp(-vol* np.sqrt(dt))\n",
    "        p = (np.exp(r*dt)-d )/(u-d)\n",
    "        \n",
    "    upwrs = u**np.arange(0,M+1)\n",
    "    dpwrs = d**np.arange(M,-1,-1)\n",
    "            \n",
    "\n",
    "    \n",
    "    assetAtExpiry = (S0*d**np.arange(M,-1,-1)) * (u**np.arange(0,M+1,1))\n",
    "    \n",
    "    putVals = np.maximum(E - assetAtExpiry, 0)\n",
    "    callVals = np.maximum(assetAtExpiry - E, 0)\n",
    "    \n",
    "    if option == 'call' or option == 'Call':\n",
    "        optVal = np.maximum(assetAtExpiry-E,0)\n",
    "    else:\n",
    "        optVal = np.maximum(E- assetAtExpiry, 0)\n",
    "        \n",
    "\n",
    "        \n",
    "    #This is the stage that needs to change for the American option\n",
    "    \n",
    "    #Now compute the value of the call option at each stage\n",
    "    for i in range(int(M)-1,-1,-1):\n",
    "        valsUp = putVals[range(1,i+2)]\n",
    "        valsDown = putVals[range(0,i+1)]\n",
    "        putVals = np.maximum(intrinsic_put(S0,E,M,i,dpwrs,upwrs), dFac(r,dt) * (p*valsUp + (1-p)*valsDown))\n",
    "    return putVals"
   ]
  },
  {
   "cell_type": "code",
   "execution_count": null,
   "id": "94667165",
   "metadata": {},
   "outputs": [],
   "source": []
  },
  {
   "cell_type": "code",
   "execution_count": 70,
   "id": "ef9d57e8",
   "metadata": {},
   "outputs": [
    {
     "name": "stdout",
     "output_type": "stream",
     "text": [
      "[1.12596764] [1.12599642] [1.12601313]\n",
      "[1.25454005] [1.25463288] [1.25521853]\n",
      "[1.35450496] [1.35467736] [1.35399375]\n",
      "[1.43466237] [1.43493473] [1.43522462]\n"
     ]
    }
   ],
   "source": [
    "T = [.25,.5,.75,1]\n",
    "for t in T:\n",
    "    print(American_BinomialTree(E= 10, S0 = 9,M =  256 ,T =  t,r = .06, vol =.3, option = 'put', risk_neutrality = 2),\n",
    "         American_BinomialTree(E= 10, S0 = 9,M =  256 ,T =  t,r = .06, vol =.3, option = 'put', risk_neutrality = 1),\n",
    "         American_BinomialTree(E= 10, S0 = 9,M =  256 ,T =  t,r = .06, vol =.3, option = 'put', risk_neutrality = 0))"
   ]
  },
  {
   "cell_type": "code",
   "execution_count": 67,
   "id": "a3d46097",
   "metadata": {},
   "outputs": [
    {
     "data": {
      "text/plain": [
       "array([ 7.29,  8.91, 10.89, 13.31])"
      ]
     },
     "execution_count": 67,
     "metadata": {},
     "output_type": "execute_result"
    }
   ],
   "source": [
    "#first set up values corresponding to powers of d and u\n",
    "S0 = 10\n",
    "u = 1.1\n",
    "d= .9\n",
    "M = 4\n",
    "upowers = u**np.arange(0,M+1)\n",
    "dpowers = d**np.arange(M,-1,-1)\n",
    "\n",
    "i =3\n",
    "S0*upowers[range(0,i+1)] * dpowers[range(M-i,M+1)]\n"
   ]
  },
  {
   "cell_type": "code",
   "execution_count": null,
   "id": "adb9480d",
   "metadata": {},
   "outputs": [],
   "source": []
  }
 ],
 "metadata": {
  "kernelspec": {
   "display_name": "Python 3 (ipykernel)",
   "language": "python",
   "name": "python3"
  },
  "language_info": {
   "codemirror_mode": {
    "name": "ipython",
    "version": 3
   },
   "file_extension": ".py",
   "mimetype": "text/x-python",
   "name": "python",
   "nbconvert_exporter": "python",
   "pygments_lexer": "ipython3",
   "version": "3.8.20"
  }
 },
 "nbformat": 4,
 "nbformat_minor": 5
}
